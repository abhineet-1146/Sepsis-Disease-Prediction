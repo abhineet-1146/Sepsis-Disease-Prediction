{
  "cells": [
    {
      "attachments": {},
      "cell_type": "markdown",
      "metadata": {
        "id": "aG7WtX4XggP-"
      },
      "source": [
        "# 2nd Hospital Dataset"
      ]
    },
    {
      "cell_type": "code",
      "execution_count": 1,
      "metadata": {
        "id": "Mwy0Y7qLghu1"
      },
      "outputs": [],
      "source": [
        "import matplotlib.pyplot as plt\n",
        "import seaborn as sns\n",
        "import pandas as pd\n",
        "from sklearn import preprocessing\n",
        "from sklearn.model_selection import train_test_split"
      ]
    },
    {
      "cell_type": "code",
      "execution_count": 2,
      "metadata": {
        "colab": {
          "base_uri": "https://localhost:8080/",
          "height": 299
        },
        "id": "4nk4NR8fgxFl",
        "outputId": "93344d55-d359-4947-c1bd-9e71754d7eb1"
      },
      "outputs": [
        {
          "data": {
            "text/html": [
              "<div>\n",
              "<style scoped>\n",
              "    .dataframe tbody tr th:only-of-type {\n",
              "        vertical-align: middle;\n",
              "    }\n",
              "\n",
              "    .dataframe tbody tr th {\n",
              "        vertical-align: top;\n",
              "    }\n",
              "\n",
              "    .dataframe thead th {\n",
              "        text-align: right;\n",
              "    }\n",
              "</style>\n",
              "<table border=\"1\" class=\"dataframe\">\n",
              "  <thead>\n",
              "    <tr style=\"text-align: right;\">\n",
              "      <th></th>\n",
              "      <th>HR</th>\n",
              "      <th>O2Sat</th>\n",
              "      <th>Temp</th>\n",
              "      <th>SBP</th>\n",
              "      <th>MAP</th>\n",
              "      <th>DBP</th>\n",
              "      <th>Resp</th>\n",
              "      <th>EtCO2</th>\n",
              "      <th>BaseExcess</th>\n",
              "      <th>HCO3</th>\n",
              "      <th>...</th>\n",
              "      <th>WBC</th>\n",
              "      <th>Fibrinogen</th>\n",
              "      <th>Platelets</th>\n",
              "      <th>Age</th>\n",
              "      <th>Gender</th>\n",
              "      <th>Unit1</th>\n",
              "      <th>Unit2</th>\n",
              "      <th>HospAdmTime</th>\n",
              "      <th>ICULOS</th>\n",
              "      <th>SepsisLabel</th>\n",
              "    </tr>\n",
              "  </thead>\n",
              "  <tbody>\n",
              "    <tr>\n",
              "      <th>0</th>\n",
              "      <td>61.0</td>\n",
              "      <td>99.0</td>\n",
              "      <td>36.44</td>\n",
              "      <td>124.0</td>\n",
              "      <td>65.0</td>\n",
              "      <td>43.0</td>\n",
              "      <td>17.5</td>\n",
              "      <td>0.0</td>\n",
              "      <td>0.0</td>\n",
              "      <td>22.0</td>\n",
              "      <td>...</td>\n",
              "      <td>11.0</td>\n",
              "      <td>0.0</td>\n",
              "      <td>158.0</td>\n",
              "      <td>75.91</td>\n",
              "      <td>0</td>\n",
              "      <td>0.0</td>\n",
              "      <td>1.0</td>\n",
              "      <td>-98.6</td>\n",
              "      <td>2</td>\n",
              "      <td>0</td>\n",
              "    </tr>\n",
              "    <tr>\n",
              "      <th>1</th>\n",
              "      <td>64.0</td>\n",
              "      <td>98.0</td>\n",
              "      <td>36.44</td>\n",
              "      <td>125.0</td>\n",
              "      <td>64.0</td>\n",
              "      <td>41.0</td>\n",
              "      <td>27.0</td>\n",
              "      <td>0.0</td>\n",
              "      <td>0.0</td>\n",
              "      <td>22.0</td>\n",
              "      <td>...</td>\n",
              "      <td>11.0</td>\n",
              "      <td>0.0</td>\n",
              "      <td>158.0</td>\n",
              "      <td>75.91</td>\n",
              "      <td>0</td>\n",
              "      <td>0.0</td>\n",
              "      <td>1.0</td>\n",
              "      <td>-98.6</td>\n",
              "      <td>3</td>\n",
              "      <td>0</td>\n",
              "    </tr>\n",
              "    <tr>\n",
              "      <th>2</th>\n",
              "      <td>56.0</td>\n",
              "      <td>100.0</td>\n",
              "      <td>36.44</td>\n",
              "      <td>123.0</td>\n",
              "      <td>65.0</td>\n",
              "      <td>41.0</td>\n",
              "      <td>9.0</td>\n",
              "      <td>0.0</td>\n",
              "      <td>0.0</td>\n",
              "      <td>22.0</td>\n",
              "      <td>...</td>\n",
              "      <td>11.0</td>\n",
              "      <td>0.0</td>\n",
              "      <td>158.0</td>\n",
              "      <td>75.91</td>\n",
              "      <td>0</td>\n",
              "      <td>0.0</td>\n",
              "      <td>1.0</td>\n",
              "      <td>-98.6</td>\n",
              "      <td>4</td>\n",
              "      <td>0</td>\n",
              "    </tr>\n",
              "    <tr>\n",
              "      <th>3</th>\n",
              "      <td>66.0</td>\n",
              "      <td>99.0</td>\n",
              "      <td>36.22</td>\n",
              "      <td>120.0</td>\n",
              "      <td>67.0</td>\n",
              "      <td>43.0</td>\n",
              "      <td>23.0</td>\n",
              "      <td>0.0</td>\n",
              "      <td>0.0</td>\n",
              "      <td>22.0</td>\n",
              "      <td>...</td>\n",
              "      <td>11.0</td>\n",
              "      <td>0.0</td>\n",
              "      <td>158.0</td>\n",
              "      <td>75.91</td>\n",
              "      <td>0</td>\n",
              "      <td>0.0</td>\n",
              "      <td>1.0</td>\n",
              "      <td>-98.6</td>\n",
              "      <td>5</td>\n",
              "      <td>0</td>\n",
              "    </tr>\n",
              "    <tr>\n",
              "      <th>4</th>\n",
              "      <td>94.0</td>\n",
              "      <td>100.0</td>\n",
              "      <td>36.22</td>\n",
              "      <td>194.0</td>\n",
              "      <td>116.0</td>\n",
              "      <td>66.0</td>\n",
              "      <td>14.0</td>\n",
              "      <td>0.0</td>\n",
              "      <td>0.0</td>\n",
              "      <td>22.0</td>\n",
              "      <td>...</td>\n",
              "      <td>11.0</td>\n",
              "      <td>0.0</td>\n",
              "      <td>158.0</td>\n",
              "      <td>75.91</td>\n",
              "      <td>0</td>\n",
              "      <td>0.0</td>\n",
              "      <td>1.0</td>\n",
              "      <td>-98.6</td>\n",
              "      <td>6</td>\n",
              "      <td>0</td>\n",
              "    </tr>\n",
              "  </tbody>\n",
              "</table>\n",
              "<p>5 rows × 41 columns</p>\n",
              "</div>"
            ],
            "text/plain": [
              "     HR  O2Sat   Temp    SBP    MAP   DBP  Resp  EtCO2  BaseExcess  HCO3  ...  \\\n",
              "0  61.0   99.0  36.44  124.0   65.0  43.0  17.5    0.0         0.0  22.0  ...   \n",
              "1  64.0   98.0  36.44  125.0   64.0  41.0  27.0    0.0         0.0  22.0  ...   \n",
              "2  56.0  100.0  36.44  123.0   65.0  41.0   9.0    0.0         0.0  22.0  ...   \n",
              "3  66.0   99.0  36.22  120.0   67.0  43.0  23.0    0.0         0.0  22.0  ...   \n",
              "4  94.0  100.0  36.22  194.0  116.0  66.0  14.0    0.0         0.0  22.0  ...   \n",
              "\n",
              "    WBC  Fibrinogen  Platelets    Age  Gender  Unit1  Unit2  HospAdmTime  \\\n",
              "0  11.0         0.0      158.0  75.91       0    0.0    1.0        -98.6   \n",
              "1  11.0         0.0      158.0  75.91       0    0.0    1.0        -98.6   \n",
              "2  11.0         0.0      158.0  75.91       0    0.0    1.0        -98.6   \n",
              "3  11.0         0.0      158.0  75.91       0    0.0    1.0        -98.6   \n",
              "4  11.0         0.0      158.0  75.91       0    0.0    1.0        -98.6   \n",
              "\n",
              "   ICULOS  SepsisLabel  \n",
              "0       2            0  \n",
              "1       3            0  \n",
              "2       4            0  \n",
              "3       5            0  \n",
              "4       6            0  \n",
              "\n",
              "[5 rows x 41 columns]"
            ]
          },
          "execution_count": 2,
          "metadata": {},
          "output_type": "execute_result"
        }
      ],
      "source": [
        "dataset = pd.read_csv(\"F:/COLLEGE/6TH SEMESTER/Predictive Analysis/Project/Dataset/sepsis_Data2.csv\")\n",
        "dataset=dataset.drop(\"Unnamed: 0\",axis=1)\n",
        "dataset.head()"
      ]
    },
    {
      "cell_type": "code",
      "execution_count": 3,
      "metadata": {},
      "outputs": [
        {
          "data": {
            "text/plain": [
              "(58376, 41)"
            ]
          },
          "execution_count": 3,
          "metadata": {},
          "output_type": "execute_result"
        }
      ],
      "source": [
        "dataset.shape"
      ]
    },
    {
      "cell_type": "code",
      "execution_count": 4,
      "metadata": {},
      "outputs": [
        {
          "data": {
            "text/html": [
              "<div>\n",
              "<style scoped>\n",
              "    .dataframe tbody tr th:only-of-type {\n",
              "        vertical-align: middle;\n",
              "    }\n",
              "\n",
              "    .dataframe tbody tr th {\n",
              "        vertical-align: top;\n",
              "    }\n",
              "\n",
              "    .dataframe thead th {\n",
              "        text-align: right;\n",
              "    }\n",
              "</style>\n",
              "<table border=\"1\" class=\"dataframe\">\n",
              "  <thead>\n",
              "    <tr style=\"text-align: right;\">\n",
              "      <th></th>\n",
              "      <th>HR</th>\n",
              "      <th>O2Sat</th>\n",
              "      <th>Temp</th>\n",
              "      <th>SBP</th>\n",
              "      <th>MAP</th>\n",
              "      <th>DBP</th>\n",
              "      <th>Resp</th>\n",
              "      <th>EtCO2</th>\n",
              "      <th>BaseExcess</th>\n",
              "      <th>HCO3</th>\n",
              "      <th>...</th>\n",
              "      <th>WBC</th>\n",
              "      <th>Fibrinogen</th>\n",
              "      <th>Platelets</th>\n",
              "      <th>Age</th>\n",
              "      <th>Gender</th>\n",
              "      <th>Unit1</th>\n",
              "      <th>Unit2</th>\n",
              "      <th>HospAdmTime</th>\n",
              "      <th>ICULOS</th>\n",
              "      <th>SepsisLabel</th>\n",
              "    </tr>\n",
              "  </thead>\n",
              "  <tbody>\n",
              "    <tr>\n",
              "      <th>count</th>\n",
              "      <td>58376.000000</td>\n",
              "      <td>58376.000000</td>\n",
              "      <td>58376.000000</td>\n",
              "      <td>58376.000000</td>\n",
              "      <td>58376.000000</td>\n",
              "      <td>58376.000000</td>\n",
              "      <td>58376.000000</td>\n",
              "      <td>58376.0</td>\n",
              "      <td>58376.000000</td>\n",
              "      <td>58376.000000</td>\n",
              "      <td>...</td>\n",
              "      <td>58376.000000</td>\n",
              "      <td>58376.000000</td>\n",
              "      <td>58376.00000</td>\n",
              "      <td>58376.000000</td>\n",
              "      <td>58376.000000</td>\n",
              "      <td>58376.000000</td>\n",
              "      <td>58376.000000</td>\n",
              "      <td>58376.000000</td>\n",
              "      <td>58376.000000</td>\n",
              "      <td>58376.000000</td>\n",
              "    </tr>\n",
              "    <tr>\n",
              "      <th>mean</th>\n",
              "      <td>85.045553</td>\n",
              "      <td>96.971238</td>\n",
              "      <td>36.721042</td>\n",
              "      <td>119.677133</td>\n",
              "      <td>78.828130</td>\n",
              "      <td>41.045126</td>\n",
              "      <td>18.768214</td>\n",
              "      <td>0.0</td>\n",
              "      <td>0.044231</td>\n",
              "      <td>24.224861</td>\n",
              "      <td>...</td>\n",
              "      <td>11.418421</td>\n",
              "      <td>52.279459</td>\n",
              "      <td>205.16834</td>\n",
              "      <td>62.973074</td>\n",
              "      <td>0.583116</td>\n",
              "      <td>0.274531</td>\n",
              "      <td>0.255687</td>\n",
              "      <td>-46.696523</td>\n",
              "      <td>28.553584</td>\n",
              "      <td>0.022372</td>\n",
              "    </tr>\n",
              "    <tr>\n",
              "      <th>std</th>\n",
              "      <td>17.166574</td>\n",
              "      <td>5.316696</td>\n",
              "      <td>2.969187</td>\n",
              "      <td>24.790090</td>\n",
              "      <td>15.239268</td>\n",
              "      <td>30.558140</td>\n",
              "      <td>5.469252</td>\n",
              "      <td>0.0</td>\n",
              "      <td>3.372358</td>\n",
              "      <td>5.148195</td>\n",
              "      <td>...</td>\n",
              "      <td>6.530127</td>\n",
              "      <td>136.887448</td>\n",
              "      <td>111.19092</td>\n",
              "      <td>16.578110</td>\n",
              "      <td>0.493047</td>\n",
              "      <td>0.446281</td>\n",
              "      <td>0.436251</td>\n",
              "      <td>132.489895</td>\n",
              "      <td>29.297463</td>\n",
              "      <td>0.147892</td>\n",
              "    </tr>\n",
              "    <tr>\n",
              "      <th>min</th>\n",
              "      <td>22.000000</td>\n",
              "      <td>0.000000</td>\n",
              "      <td>0.000000</td>\n",
              "      <td>0.000000</td>\n",
              "      <td>20.000000</td>\n",
              "      <td>0.000000</td>\n",
              "      <td>0.000000</td>\n",
              "      <td>0.0</td>\n",
              "      <td>-32.000000</td>\n",
              "      <td>0.000000</td>\n",
              "      <td>...</td>\n",
              "      <td>0.000000</td>\n",
              "      <td>0.000000</td>\n",
              "      <td>0.00000</td>\n",
              "      <td>18.110000</td>\n",
              "      <td>0.000000</td>\n",
              "      <td>0.000000</td>\n",
              "      <td>0.000000</td>\n",
              "      <td>-3269.100000</td>\n",
              "      <td>2.000000</td>\n",
              "      <td>0.000000</td>\n",
              "    </tr>\n",
              "    <tr>\n",
              "      <th>25%</th>\n",
              "      <td>73.000000</td>\n",
              "      <td>96.000000</td>\n",
              "      <td>36.440000</td>\n",
              "      <td>104.000000</td>\n",
              "      <td>68.330000</td>\n",
              "      <td>0.000000</td>\n",
              "      <td>15.000000</td>\n",
              "      <td>0.0</td>\n",
              "      <td>0.000000</td>\n",
              "      <td>22.000000</td>\n",
              "      <td>...</td>\n",
              "      <td>7.700000</td>\n",
              "      <td>0.000000</td>\n",
              "      <td>134.75000</td>\n",
              "      <td>51.920000</td>\n",
              "      <td>0.000000</td>\n",
              "      <td>0.000000</td>\n",
              "      <td>0.000000</td>\n",
              "      <td>-31.860000</td>\n",
              "      <td>12.000000</td>\n",
              "      <td>0.000000</td>\n",
              "    </tr>\n",
              "    <tr>\n",
              "      <th>50%</th>\n",
              "      <td>84.000000</td>\n",
              "      <td>98.000000</td>\n",
              "      <td>36.900000</td>\n",
              "      <td>118.000000</td>\n",
              "      <td>77.000000</td>\n",
              "      <td>52.000000</td>\n",
              "      <td>18.000000</td>\n",
              "      <td>0.0</td>\n",
              "      <td>0.000000</td>\n",
              "      <td>24.000000</td>\n",
              "      <td>...</td>\n",
              "      <td>10.500000</td>\n",
              "      <td>0.000000</td>\n",
              "      <td>188.00000</td>\n",
              "      <td>65.980000</td>\n",
              "      <td>1.000000</td>\n",
              "      <td>0.000000</td>\n",
              "      <td>0.000000</td>\n",
              "      <td>-1.690000</td>\n",
              "      <td>22.000000</td>\n",
              "      <td>0.000000</td>\n",
              "    </tr>\n",
              "    <tr>\n",
              "      <th>75%</th>\n",
              "      <td>96.000000</td>\n",
              "      <td>99.000000</td>\n",
              "      <td>37.400000</td>\n",
              "      <td>135.000000</td>\n",
              "      <td>87.670000</td>\n",
              "      <td>63.000000</td>\n",
              "      <td>22.000000</td>\n",
              "      <td>0.0</td>\n",
              "      <td>1.000000</td>\n",
              "      <td>27.000000</td>\n",
              "      <td>...</td>\n",
              "      <td>13.800000</td>\n",
              "      <td>0.000000</td>\n",
              "      <td>252.00000</td>\n",
              "      <td>75.840000</td>\n",
              "      <td>1.000000</td>\n",
              "      <td>1.000000</td>\n",
              "      <td>1.000000</td>\n",
              "      <td>-0.020000</td>\n",
              "      <td>36.000000</td>\n",
              "      <td>0.000000</td>\n",
              "    </tr>\n",
              "    <tr>\n",
              "      <th>max</th>\n",
              "      <td>183.000000</td>\n",
              "      <td>100.000000</td>\n",
              "      <td>41.170000</td>\n",
              "      <td>229.000000</td>\n",
              "      <td>294.000000</td>\n",
              "      <td>173.000000</td>\n",
              "      <td>67.000000</td>\n",
              "      <td>0.0</td>\n",
              "      <td>21.000000</td>\n",
              "      <td>52.000000</td>\n",
              "      <td>...</td>\n",
              "      <td>128.700000</td>\n",
              "      <td>954.000000</td>\n",
              "      <td>970.00000</td>\n",
              "      <td>88.980000</td>\n",
              "      <td>1.000000</td>\n",
              "      <td>1.000000</td>\n",
              "      <td>1.000000</td>\n",
              "      <td>14.650000</td>\n",
              "      <td>265.000000</td>\n",
              "      <td>1.000000</td>\n",
              "    </tr>\n",
              "  </tbody>\n",
              "</table>\n",
              "<p>8 rows × 41 columns</p>\n",
              "</div>"
            ],
            "text/plain": [
              "                 HR         O2Sat          Temp           SBP           MAP  \\\n",
              "count  58376.000000  58376.000000  58376.000000  58376.000000  58376.000000   \n",
              "mean      85.045553     96.971238     36.721042    119.677133     78.828130   \n",
              "std       17.166574      5.316696      2.969187     24.790090     15.239268   \n",
              "min       22.000000      0.000000      0.000000      0.000000     20.000000   \n",
              "25%       73.000000     96.000000     36.440000    104.000000     68.330000   \n",
              "50%       84.000000     98.000000     36.900000    118.000000     77.000000   \n",
              "75%       96.000000     99.000000     37.400000    135.000000     87.670000   \n",
              "max      183.000000    100.000000     41.170000    229.000000    294.000000   \n",
              "\n",
              "                DBP          Resp    EtCO2    BaseExcess          HCO3  ...  \\\n",
              "count  58376.000000  58376.000000  58376.0  58376.000000  58376.000000  ...   \n",
              "mean      41.045126     18.768214      0.0      0.044231     24.224861  ...   \n",
              "std       30.558140      5.469252      0.0      3.372358      5.148195  ...   \n",
              "min        0.000000      0.000000      0.0    -32.000000      0.000000  ...   \n",
              "25%        0.000000     15.000000      0.0      0.000000     22.000000  ...   \n",
              "50%       52.000000     18.000000      0.0      0.000000     24.000000  ...   \n",
              "75%       63.000000     22.000000      0.0      1.000000     27.000000  ...   \n",
              "max      173.000000     67.000000      0.0     21.000000     52.000000  ...   \n",
              "\n",
              "                WBC    Fibrinogen    Platelets           Age        Gender  \\\n",
              "count  58376.000000  58376.000000  58376.00000  58376.000000  58376.000000   \n",
              "mean      11.418421     52.279459    205.16834     62.973074      0.583116   \n",
              "std        6.530127    136.887448    111.19092     16.578110      0.493047   \n",
              "min        0.000000      0.000000      0.00000     18.110000      0.000000   \n",
              "25%        7.700000      0.000000    134.75000     51.920000      0.000000   \n",
              "50%       10.500000      0.000000    188.00000     65.980000      1.000000   \n",
              "75%       13.800000      0.000000    252.00000     75.840000      1.000000   \n",
              "max      128.700000    954.000000    970.00000     88.980000      1.000000   \n",
              "\n",
              "              Unit1         Unit2   HospAdmTime        ICULOS   SepsisLabel  \n",
              "count  58376.000000  58376.000000  58376.000000  58376.000000  58376.000000  \n",
              "mean       0.274531      0.255687    -46.696523     28.553584      0.022372  \n",
              "std        0.446281      0.436251    132.489895     29.297463      0.147892  \n",
              "min        0.000000      0.000000  -3269.100000      2.000000      0.000000  \n",
              "25%        0.000000      0.000000    -31.860000     12.000000      0.000000  \n",
              "50%        0.000000      0.000000     -1.690000     22.000000      0.000000  \n",
              "75%        1.000000      1.000000     -0.020000     36.000000      0.000000  \n",
              "max        1.000000      1.000000     14.650000    265.000000      1.000000  \n",
              "\n",
              "[8 rows x 41 columns]"
            ]
          },
          "execution_count": 4,
          "metadata": {},
          "output_type": "execute_result"
        }
      ],
      "source": [
        "dataset.describe()"
      ]
    },
    {
      "cell_type": "code",
      "execution_count": 5,
      "metadata": {},
      "outputs": [
        {
          "data": {
            "text/plain": [
              "HR                  0\n",
              "O2Sat               0\n",
              "Temp                0\n",
              "SBP                 0\n",
              "MAP                 0\n",
              "DBP                 0\n",
              "Resp                0\n",
              "EtCO2               0\n",
              "BaseExcess          0\n",
              "HCO3                0\n",
              "FiO2                0\n",
              "pH                  0\n",
              "PaCO2               0\n",
              "SaO2                0\n",
              "AST                 0\n",
              "BUN                 0\n",
              "Alkalinephos        0\n",
              "Calcium             0\n",
              "Chloride            0\n",
              "Creatinine          0\n",
              "Bilirubin_direct    0\n",
              "Glucose             0\n",
              "Lactate             0\n",
              "Magnesium           0\n",
              "Phosphate           0\n",
              "Potassium           0\n",
              "Bilirubin_total     0\n",
              "TroponinI           0\n",
              "Hct                 0\n",
              "Hgb                 0\n",
              "PTT                 0\n",
              "WBC                 0\n",
              "Fibrinogen          0\n",
              "Platelets           0\n",
              "Age                 0\n",
              "Gender              0\n",
              "Unit1               0\n",
              "Unit2               0\n",
              "HospAdmTime         0\n",
              "ICULOS              0\n",
              "SepsisLabel         0\n",
              "dtype: int64"
            ]
          },
          "execution_count": 5,
          "metadata": {},
          "output_type": "execute_result"
        }
      ],
      "source": [
        "dataset.isnull().sum()"
      ]
    },
    {
      "cell_type": "code",
      "execution_count": 6,
      "metadata": {
        "id": "IYxEtVGOgxzT"
      },
      "outputs": [],
      "source": [
        "from sklearn.utils import resample\n",
        "df_majority = dataset[dataset.SepsisLabel==0]\n",
        "df_minority = dataset[dataset.SepsisLabel==1]"
      ]
    },
    {
      "cell_type": "code",
      "execution_count": 7,
      "metadata": {
        "id": "JmZw79ieg5Vj"
      },
      "outputs": [],
      "source": [
        "df_minority_upsampled = resample(df_minority,replace=True,n_samples=57070,random_state=123)"
      ]
    },
    {
      "cell_type": "code",
      "execution_count": 8,
      "metadata": {
        "id": "gtAVYsXog9TT"
      },
      "outputs": [],
      "source": [
        "df_upsampled = pd.concat([df_majority, df_minority_upsampled])"
      ]
    },
    {
      "cell_type": "code",
      "execution_count": 9,
      "metadata": {
        "colab": {
          "base_uri": "https://localhost:8080/"
        },
        "id": "lusO9jAehAkk",
        "outputId": "85be084a-bd24-4d14-a914-385eee0b5335"
      },
      "outputs": [
        {
          "data": {
            "text/plain": [
              "0    57070\n",
              "1    57070\n",
              "Name: SepsisLabel, dtype: int64"
            ]
          },
          "execution_count": 9,
          "metadata": {},
          "output_type": "execute_result"
        }
      ],
      "source": [
        "df_upsampled.SepsisLabel.value_counts()"
      ]
    },
    {
      "cell_type": "code",
      "execution_count": 10,
      "metadata": {
        "colab": {
          "base_uri": "https://localhost:8080/",
          "height": 838
        },
        "id": "kYOTxx5thEMb",
        "outputId": "c54f32f1-b1e0-43eb-a947-f241c13d647d"
      },
      "outputs": [
        {
          "data": {
            "image/png": "[encoded data removed]",
            "text/plain": [
              "<Figure size 432x288 with 1 Axes>"
            ]
          },
          "metadata": {},
          "output_type": "display_data"
        },
        {
          "data": {
            "image/png": "[encoded data removed]",
            "text/plain": [
              "<Figure size 432x288 with 1 Axes>"
            ]
          },
          "metadata": {
            "needs_background": "light"
          },
          "output_type": "display_data"
        }
      ],
      "source": [
        "plt.pie(df_upsampled['SepsisLabel'].value_counts(), labels=['1','0'], autopct='%1.1f%%', shadow=True)\n",
        "plt.show()\n",
        "sns.countplot(x=df_upsampled['SepsisLabel'], label=\"Count\")\n",
        "plt.show()"
      ]
    },
    {
      "cell_type": "code",
      "execution_count": 11,
      "metadata": {
        "id": "FxkHLcSQhJxj"
      },
      "outputs": [],
      "source": [
        "X = df_upsampled[df_upsampled.columns[0:40]].values"
      ]
    },
    {
      "cell_type": "code",
      "execution_count": 12,
      "metadata": {
        "id": "TFLQOsTwhzis"
      },
      "outputs": [],
      "source": [
        "Y = df_upsampled[df_upsampled.columns[40:]].values\n"
      ]
    },
    {
      "cell_type": "code",
      "execution_count": 13,
      "metadata": {
        "colab": {
          "base_uri": "https://localhost:8080/"
        },
        "id": "awELkIJBh2Jz",
        "outputId": "df23c884-b629-4321-c09a-883d5abb77e1"
      },
      "outputs": [
        {
          "name": "stdout",
          "output_type": "stream",
          "text": [
            "sepsis dimensions : (114140, 41)\n"
          ]
        }
      ],
      "source": [
        "print(\"sepsis dimensions : {}\".format(df_upsampled.shape))"
      ]
    },
    {
      "cell_type": "code",
      "execution_count": 14,
      "metadata": {
        "colab": {
          "base_uri": "https://localhost:8080/"
        },
        "id": "eLHYYG8Ah4Li",
        "outputId": "7c7d61ed-924c-4a30-8f39-8dd6f114e2f6"
      },
      "outputs": [
        {
          "name": "stdout",
          "output_type": "stream",
          "text": [
            "sepsis dimensions without label : (114140, 40)\n"
          ]
        }
      ],
      "source": [
        "print(\"sepsis dimensions without label : {}\".format(X.shape))"
      ]
    },
    {
      "cell_type": "code",
      "execution_count": 15,
      "metadata": {
        "colab": {
          "base_uri": "https://localhost:8080/"
        },
        "id": "TmDNHdMfh6Ri",
        "outputId": "415e0610-634f-49e5-e499-f46f7da791fd"
      },
      "outputs": [
        {
          "name": "stdout",
          "output_type": "stream",
          "text": [
            "sepsis dimensions only label : (114140, 1)\n"
          ]
        }
      ],
      "source": [
        "print(\"sepsis dimensions only label : {}\".format(Y.shape))"
      ]
    },
    {
      "cell_type": "code",
      "execution_count": 16,
      "metadata": {
        "colab": {
          "base_uri": "https://localhost:8080/"
        },
        "id": "TOEVehzJh8_i",
        "outputId": "a2bcd126-5540-48cd-e03e-7e82cc4677fd"
      },
      "outputs": [
        {
          "name": "stderr",
          "output_type": "stream",
          "text": [
            "c:\\Users\\user\\AppData\\Local\\Programs\\Python\\Python310\\lib\\site-packages\\sklearn\\preprocessing\\_label.py:115: DataConversionWarning: A column-vector y was passed when a 1d array was expected. Please change the shape of y to (n_samples, ), for example using ravel().\n",
            "  y = column_or_1d(y, warn=True)\n"
          ]
        }
      ],
      "source": [
        "labelencoder_Y = preprocessing.LabelEncoder()\n",
        "Y = labelencoder_Y.fit_transform(Y)"
      ]
    },
    {
      "cell_type": "code",
      "execution_count": 17,
      "metadata": {
        "colab": {
          "base_uri": "https://localhost:8080/"
        },
        "id": "rBoY-PjkUnZ1",
        "outputId": "a42d4f51-5f08-47e5-fd01-c3b782324230"
      },
      "outputs": [
        {
          "data": {
            "text/plain": [
              "array([0, 0, 0, ..., 1, 1, 1], dtype=int64)"
            ]
          },
          "execution_count": 17,
          "metadata": {},
          "output_type": "execute_result"
        }
      ],
      "source": [
        "Y"
      ]
    },
    {
      "cell_type": "code",
      "execution_count": 18,
      "metadata": {
        "colab": {
          "base_uri": "https://localhost:8080/"
        },
        "id": "uNNHUIm0iRU6",
        "outputId": "520189ce-a6cf-4385-dcd1-fe7be3ce5022"
      },
      "outputs": [
        {
          "name": "stdout",
          "output_type": "stream",
          "text": [
            "Training data dimensions :(91312, 40)\n",
            "Testing data dimensions :(22828, 40)\n"
          ]
        }
      ],
      "source": [
        "X_train, X_test, Y_train, Y_test = train_test_split(X, Y, test_size=0.20, random_state=0)\n",
        "print(\"Training data dimensions :{}\".format(X_train.shape))\n",
        "print(\"Testing data dimensions :{}\".format(X_test.shape))"
      ]
    },
    {
      "cell_type": "code",
      "execution_count": 19,
      "metadata": {
        "id": "lN_hoUoQilEJ"
      },
      "outputs": [],
      "source": [
        "from sklearn.metrics import accuracy_score, log_loss\n",
        "from sklearn.neural_network import MLPClassifier"
      ]
    },
    {
      "cell_type": "code",
      "execution_count": 20,
      "metadata": {
        "id": "EymmOnCqix-b"
      },
      "outputs": [],
      "source": [
        "clf=MLPClassifier(\n",
        "    activation='tanh',\n",
        "    solver='lbfgs',\n",
        "    early_stopping=False,\n",
        "    hidden_layer_sizes=(40,10,10,10,10, 2),\n",
        "    random_state=1,\n",
        "    batch_size='auto',\n",
        "    max_iter=100,\n",
        "    learning_rate_init=1e-5,\n",
        "    tol=1e-4,)"
      ]
    },
    {
      "cell_type": "code",
      "execution_count": 21,
      "metadata": {
        "colab": {
          "base_uri": "https://localhost:8080/",
          "height": 328
        },
        "id": "nuVD8b4HjFyZ",
        "outputId": "7eec215d-53a1-4eae-c747-fb95f1854c34"
      },
      "outputs": [
        {
          "name": "stderr",
          "output_type": "stream",
          "text": [
            "c:\\Users\\user\\AppData\\Local\\Programs\\Python\\Python310\\lib\\site-packages\\sklearn\\neural_network\\_multilayer_perceptron.py:559: ConvergenceWarning: lbfgs failed to converge (status=1):\n",
            "STOP: TOTAL NO. of ITERATIONS REACHED LIMIT.\n",
            "\n",
            "Increase the number of iterations (max_iter) or scale the data as shown in:\n",
            "    https://scikit-learn.org/stable/modules/preprocessing.html\n",
            "  self.n_iter_ = _check_optimize_result(\"lbfgs\", opt_res, self.max_iter)\n"
          ]
        },
        {
          "data": {
            "text/html": [
              "<style>#sk-container-id-1 {color: black;background-color: white;}#sk-container-id-1 pre{padding: 0;}#sk-container-id-1 div.sk-toggleable {background-color: white;}#sk-container-id-1 label.sk-toggleable__label {cursor: pointer;display: block;width: 100%;margin-bottom: 0;padding: 0.3em;box-sizing: border-box;text-align: center;}#sk-container-id-1 label.sk-toggleable__label-arrow:before {content: \"▸\";float: left;margin-right: 0.25em;color: #696969;}#sk-container-id-1 label.sk-toggleable__label-arrow:hover:before {color: black;}#sk-container-id-1 div.sk-estimator:hover label.sk-toggleable__label-arrow:before {color: black;}#sk-container-id-1 div.sk-toggleable__content {max-height: 0;max-width: 0;overflow: hidden;text-align: left;background-color: #f0f8ff;}#sk-container-id-1 div.sk-toggleable__content pre {margin: 0.2em;color: black;border-radius: 0.25em;background-color: #f0f8ff;}#sk-container-id-1 input.sk-toggleable__control:checked~div.sk-toggleable__content {max-height: 200px;max-width: 100%;overflow: auto;}#sk-container-id-1 input.sk-toggleable__control:checked~label.sk-toggleable__label-arrow:before {content: \"▾\";}#sk-container-id-1 div.sk-estimator input.sk-toggleable__control:checked~label.sk-toggleable__label {background-color: #d4ebff;}#sk-container-id-1 div.sk-label input.sk-toggleable__control:checked~label.sk-toggleable__label {background-color: #d4ebff;}#sk-container-id-1 input.sk-hidden--visually {border: 0;clip: rect(1px 1px 1px 1px);clip: rect(1px, 1px, 1px, 1px);height: 1px;margin: -1px;overflow: hidden;padding: 0;position: absolute;width: 1px;}#sk-container-id-1 div.sk-estimator {font-family: monospace;background-color: #f0f8ff;border: 1px dotted black;border-radius: 0.25em;box-sizing: border-box;margin-bottom: 0.5em;}#sk-container-id-1 div.sk-estimator:hover {background-color: #d4ebff;}#sk-container-id-1 div.sk-parallel-item::after {content: \"\";width: 100%;border-bottom: 1px solid gray;flex-grow: 1;}#sk-container-id-1 div.sk-label:hover label.sk-toggleable__label {background-color: #d4ebff;}#sk-container-id-1 div.sk-serial::before {content: \"\";position: absolute;border-left: 1px solid gray;box-sizing: border-box;top: 0;bottom: 0;left: 50%;z-index: 0;}#sk-container-id-1 div.sk-serial {display: flex;flex-direction: column;align-items: center;background-color: white;padding-right: 0.2em;padding-left: 0.2em;position: relative;}#sk-container-id-1 div.sk-item {position: relative;z-index: 1;}#sk-container-id-1 div.sk-parallel {display: flex;align-items: stretch;justify-content: center;background-color: white;position: relative;}#sk-container-id-1 div.sk-item::before, #sk-container-id-1 div.sk-parallel-item::before {content: \"\";position: absolute;border-left: 1px solid gray;box-sizing: border-box;top: 0;bottom: 0;left: 50%;z-index: -1;}#sk-container-id-1 div.sk-parallel-item {display: flex;flex-direction: column;z-index: 1;position: relative;background-color: white;}#sk-container-id-1 div.sk-parallel-item:first-child::after {align-self: flex-end;width: 50%;}#sk-container-id-1 div.sk-parallel-item:last-child::after {align-self: flex-start;width: 50%;}#sk-container-id-1 div.sk-parallel-item:only-child::after {width: 0;}#sk-container-id-1 div.sk-dashed-wrapped {border: 1px dashed gray;margin: 0 0.4em 0.5em 0.4em;box-sizing: border-box;padding-bottom: 0.4em;background-color: white;}#sk-container-id-1 div.sk-label label {font-family: monospace;font-weight: bold;display: inline-block;line-height: 1.2em;}#sk-container-id-1 div.sk-label-container {text-align: center;}#sk-container-id-1 div.sk-container {/* jupyter's `normalize.less` sets `[hidden] { display: none; }` but bootstrap.min.css set `[hidden] { display: none !important; }` so we also need the `!important` here to be able to override the default hidden behavior on the sphinx rendered scikit-learn.org. See: https://github.com/scikit-learn/scikit-learn/issues/21755 */display: inline-block !important;position: relative;}#sk-container-id-1 div.sk-text-repr-fallback {display: none;}</style><div id=\"sk-container-id-1\" class=\"sk-top-container\"><div class=\"sk-text-repr-fallback\"><pre>MLPClassifier(activation=&#x27;tanh&#x27;, hidden_layer_sizes=(40, 10, 10, 10, 10, 2),\n",
              "              learning_rate_init=1e-05, max_iter=100, random_state=1,\n",
              "              solver=&#x27;lbfgs&#x27;)</pre><b>In a Jupyter environment, please rerun this cell to show the HTML representation or trust the notebook. <br />On GitHub, the HTML representation is unable to render, please try loading this page with nbviewer.org.</b></div><div class=\"sk-container\" hidden><div class=\"sk-item\"><div class=\"sk-estimator sk-toggleable\"><input class=\"sk-toggleable__control sk-hidden--visually\" id=\"sk-estimator-id-1\" type=\"checkbox\" checked><label for=\"sk-estimator-id-1\" class=\"sk-toggleable__label sk-toggleable__label-arrow\">MLPClassifier</label><div class=\"sk-toggleable__content\"><pre>MLPClassifier(activation=&#x27;tanh&#x27;, hidden_layer_sizes=(40, 10, 10, 10, 10, 2),\n",
              "              learning_rate_init=1e-05, max_iter=100, random_state=1,\n",
              "              solver=&#x27;lbfgs&#x27;)</pre></div></div></div></div></div>"
            ],
            "text/plain": [
              "MLPClassifier(activation='tanh', hidden_layer_sizes=(40, 10, 10, 10, 10, 2),\n",
              "              learning_rate_init=1e-05, max_iter=100, random_state=1,\n",
              "              solver='lbfgs')"
            ]
          },
          "execution_count": 21,
          "metadata": {},
          "output_type": "execute_result"
        }
      ],
      "source": [
        "clf.fit(X_train, Y_train)"
      ]
    },
    {
      "cell_type": "code",
      "execution_count": 22,
      "metadata": {
        "id": "SRQtPw3gjpPp"
      },
      "outputs": [],
      "source": [
        "import pickle"
      ]
    },
    {
      "cell_type": "code",
      "execution_count": 23,
      "metadata": {
        "id": "rswv0Lvq008y"
      },
      "outputs": [],
      "source": [
        "# save the model to disk\n",
        "filename = \"F:/COLLEGE/6TH SEMESTER/Predictive Analysis/Projectfinalized_model2.sav\"\n",
        "pickle.dump(clf, open(filename, 'wb'))"
      ]
    },
    {
      "cell_type": "code",
      "execution_count": 24,
      "metadata": {
        "colab": {
          "base_uri": "https://localhost:8080/"
        },
        "id": "92Polc9w09Lp",
        "outputId": "1b45da87-b3aa-47dd-f13d-5f333b9ea98a"
      },
      "outputs": [
        {
          "name": "stdout",
          "output_type": "stream",
          "text": [
            "0.8843963553530751\n"
          ]
        }
      ],
      "source": [
        "# load the model from disk\n",
        "loaded_model = pickle.load(open(filename, 'rb'))\n",
        "result = loaded_model.score(X_test, Y_test)\n",
        "print(result)"
      ]
    },
    {
      "cell_type": "code",
      "execution_count": 25,
      "metadata": {
        "id": "DmCinrYe1u7J"
      },
      "outputs": [],
      "source": [
        "from sklearn.metrics import confusion_matrix ,ConfusionMatrixDisplay"
      ]
    },
    {
      "cell_type": "code",
      "execution_count": 26,
      "metadata": {
        "colab": {
          "base_uri": "https://localhost:8080/"
        },
        "id": "_msXZ3KY_Tks",
        "outputId": "b6bd6de7-9c27-4e7a-fdda-9b74c18908bb"
      },
      "outputs": [
        {
          "name": "stdout",
          "output_type": "stream",
          "text": [
            "(22828,)\n",
            "(22828,)\n",
            "[[ 9553  1881]\n",
            " [  758 10636]]\n"
          ]
        }
      ],
      "source": [
        "predicted = loaded_model.predict(X_test)\n",
        "print(predicted.shape)\n",
        "print(Y_test.shape)\n",
        "print(confusion_matrix(Y_test,predicted))"
      ]
    },
    {
      "cell_type": "code",
      "execution_count": 27,
      "metadata": {
        "colab": {
          "base_uri": "https://localhost:8080/",
          "height": 449
        },
        "id": "S-rbncTOAMOT",
        "outputId": "a905decc-d371-4eac-d082-5626e0ba85bc"
      },
      "outputs": [
        {
          "data": {
            "image/png": "[encoded data removed]",
            "text/plain": [
              "<Figure size 432x288 with 2 Axes>"
            ]
          },
          "metadata": {
            "needs_background": "light"
          },
          "output_type": "display_data"
        }
      ],
      "source": [
        "cm=confusion_matrix(Y_test,predicted)\n",
        "disp=ConfusionMatrixDisplay(confusion_matrix=cm,display_labels=clf.classes_)\n",
        "disp.plot()\n",
        "plt.show()\n"
      ]
    },
    {
      "cell_type": "code",
      "execution_count": 32,
      "metadata": {
        "colab": {
          "base_uri": "https://localhost:8080/",
          "height": 299
        },
        "id": "3fuGgkC9YJeE",
        "outputId": "40fc0151-dde6-440a-a0da-070e31e8404e"
      },
      "outputs": [
        {
          "data": {
            "text/html": [
              "<div>\n",
              "<style scoped>\n",
              "    .dataframe tbody tr th:only-of-type {\n",
              "        vertical-align: middle;\n",
              "    }\n",
              "\n",
              "    .dataframe tbody tr th {\n",
              "        vertical-align: top;\n",
              "    }\n",
              "\n",
              "    .dataframe thead th {\n",
              "        text-align: right;\n",
              "    }\n",
              "</style>\n",
              "<table border=\"1\" class=\"dataframe\">\n",
              "  <thead>\n",
              "    <tr style=\"text-align: right;\">\n",
              "      <th></th>\n",
              "      <th>HR</th>\n",
              "      <th>O2Sat</th>\n",
              "      <th>Temp</th>\n",
              "      <th>SBP</th>\n",
              "      <th>MAP</th>\n",
              "      <th>DBP</th>\n",
              "      <th>Resp</th>\n",
              "      <th>EtCO2</th>\n",
              "      <th>BaseExcess</th>\n",
              "      <th>HCO3</th>\n",
              "      <th>...</th>\n",
              "      <th>WBC</th>\n",
              "      <th>Fibrinogen</th>\n",
              "      <th>Platelets</th>\n",
              "      <th>Age</th>\n",
              "      <th>Gender</th>\n",
              "      <th>Unit1</th>\n",
              "      <th>Unit2</th>\n",
              "      <th>HospAdmTime</th>\n",
              "      <th>ICULOS</th>\n",
              "      <th>SepsisLabel</th>\n",
              "    </tr>\n",
              "  </thead>\n",
              "  <tbody>\n",
              "    <tr>\n",
              "      <th>0</th>\n",
              "      <td>61.0</td>\n",
              "      <td>99.0</td>\n",
              "      <td>36.44</td>\n",
              "      <td>124.0</td>\n",
              "      <td>65.0</td>\n",
              "      <td>43.0</td>\n",
              "      <td>17.5</td>\n",
              "      <td>0.0</td>\n",
              "      <td>0.0</td>\n",
              "      <td>22.0</td>\n",
              "      <td>...</td>\n",
              "      <td>11.0</td>\n",
              "      <td>0.0</td>\n",
              "      <td>158.0</td>\n",
              "      <td>75.91</td>\n",
              "      <td>0</td>\n",
              "      <td>0.0</td>\n",
              "      <td>1.0</td>\n",
              "      <td>-98.6</td>\n",
              "      <td>2</td>\n",
              "      <td>0</td>\n",
              "    </tr>\n",
              "    <tr>\n",
              "      <th>1</th>\n",
              "      <td>64.0</td>\n",
              "      <td>98.0</td>\n",
              "      <td>36.44</td>\n",
              "      <td>125.0</td>\n",
              "      <td>64.0</td>\n",
              "      <td>41.0</td>\n",
              "      <td>27.0</td>\n",
              "      <td>0.0</td>\n",
              "      <td>0.0</td>\n",
              "      <td>22.0</td>\n",
              "      <td>...</td>\n",
              "      <td>11.0</td>\n",
              "      <td>0.0</td>\n",
              "      <td>158.0</td>\n",
              "      <td>75.91</td>\n",
              "      <td>0</td>\n",
              "      <td>0.0</td>\n",
              "      <td>1.0</td>\n",
              "      <td>-98.6</td>\n",
              "      <td>3</td>\n",
              "      <td>0</td>\n",
              "    </tr>\n",
              "    <tr>\n",
              "      <th>2</th>\n",
              "      <td>56.0</td>\n",
              "      <td>100.0</td>\n",
              "      <td>36.44</td>\n",
              "      <td>123.0</td>\n",
              "      <td>65.0</td>\n",
              "      <td>41.0</td>\n",
              "      <td>9.0</td>\n",
              "      <td>0.0</td>\n",
              "      <td>0.0</td>\n",
              "      <td>22.0</td>\n",
              "      <td>...</td>\n",
              "      <td>11.0</td>\n",
              "      <td>0.0</td>\n",
              "      <td>158.0</td>\n",
              "      <td>75.91</td>\n",
              "      <td>0</td>\n",
              "      <td>0.0</td>\n",
              "      <td>1.0</td>\n",
              "      <td>-98.6</td>\n",
              "      <td>4</td>\n",
              "      <td>0</td>\n",
              "    </tr>\n",
              "    <tr>\n",
              "      <th>3</th>\n",
              "      <td>66.0</td>\n",
              "      <td>99.0</td>\n",
              "      <td>36.22</td>\n",
              "      <td>120.0</td>\n",
              "      <td>67.0</td>\n",
              "      <td>43.0</td>\n",
              "      <td>23.0</td>\n",
              "      <td>0.0</td>\n",
              "      <td>0.0</td>\n",
              "      <td>22.0</td>\n",
              "      <td>...</td>\n",
              "      <td>11.0</td>\n",
              "      <td>0.0</td>\n",
              "      <td>158.0</td>\n",
              "      <td>75.91</td>\n",
              "      <td>0</td>\n",
              "      <td>0.0</td>\n",
              "      <td>1.0</td>\n",
              "      <td>-98.6</td>\n",
              "      <td>5</td>\n",
              "      <td>0</td>\n",
              "    </tr>\n",
              "    <tr>\n",
              "      <th>4</th>\n",
              "      <td>94.0</td>\n",
              "      <td>100.0</td>\n",
              "      <td>36.22</td>\n",
              "      <td>194.0</td>\n",
              "      <td>116.0</td>\n",
              "      <td>66.0</td>\n",
              "      <td>14.0</td>\n",
              "      <td>0.0</td>\n",
              "      <td>0.0</td>\n",
              "      <td>22.0</td>\n",
              "      <td>...</td>\n",
              "      <td>11.0</td>\n",
              "      <td>0.0</td>\n",
              "      <td>158.0</td>\n",
              "      <td>75.91</td>\n",
              "      <td>0</td>\n",
              "      <td>0.0</td>\n",
              "      <td>1.0</td>\n",
              "      <td>-98.6</td>\n",
              "      <td>6</td>\n",
              "      <td>0</td>\n",
              "    </tr>\n",
              "  </tbody>\n",
              "</table>\n",
              "<p>5 rows × 41 columns</p>\n",
              "</div>"
            ],
            "text/plain": [
              "     HR  O2Sat   Temp    SBP    MAP   DBP  Resp  EtCO2  BaseExcess  HCO3  ...  \\\n",
              "0  61.0   99.0  36.44  124.0   65.0  43.0  17.5    0.0         0.0  22.0  ...   \n",
              "1  64.0   98.0  36.44  125.0   64.0  41.0  27.0    0.0         0.0  22.0  ...   \n",
              "2  56.0  100.0  36.44  123.0   65.0  41.0   9.0    0.0         0.0  22.0  ...   \n",
              "3  66.0   99.0  36.22  120.0   67.0  43.0  23.0    0.0         0.0  22.0  ...   \n",
              "4  94.0  100.0  36.22  194.0  116.0  66.0  14.0    0.0         0.0  22.0  ...   \n",
              "\n",
              "    WBC  Fibrinogen  Platelets    Age  Gender  Unit1  Unit2  HospAdmTime  \\\n",
              "0  11.0         0.0      158.0  75.91       0    0.0    1.0        -98.6   \n",
              "1  11.0         0.0      158.0  75.91       0    0.0    1.0        -98.6   \n",
              "2  11.0         0.0      158.0  75.91       0    0.0    1.0        -98.6   \n",
              "3  11.0         0.0      158.0  75.91       0    0.0    1.0        -98.6   \n",
              "4  11.0         0.0      158.0  75.91       0    0.0    1.0        -98.6   \n",
              "\n",
              "   ICULOS  SepsisLabel  \n",
              "0       2            0  \n",
              "1       3            0  \n",
              "2       4            0  \n",
              "3       5            0  \n",
              "4       6            0  \n",
              "\n",
              "[5 rows x 41 columns]"
            ]
          },
          "execution_count": 32,
          "metadata": {},
          "output_type": "execute_result"
        }
      ],
      "source": [
        "df_test =pd.read_csv('F:/COLLEGE/6TH SEMESTER/Predictive Analysis/Project/Dataset/test_D.csv')\n",
        "df_test=df_test.drop(\"Unnamed: 0\",axis=1)\n",
        "dataset.head()"
      ]
    },
    {
      "cell_type": "code",
      "execution_count": 33,
      "metadata": {
        "id": "K3qzaJ1zZKeT"
      },
      "outputs": [],
      "source": [
        "X2_test = df_test[df_test.columns[0:40]].values\n"
      ]
    },
    {
      "cell_type": "code",
      "execution_count": 34,
      "metadata": {
        "colab": {
          "base_uri": "https://localhost:8080/"
        },
        "id": "wR7Go63mZ8rZ",
        "outputId": "dfef7346-64cd-4eb5-abaa-11d8634fb3e4"
      },
      "outputs": [
        {
          "name": "stderr",
          "output_type": "stream",
          "text": [
            "c:\\Users\\user\\AppData\\Local\\Programs\\Python\\Python310\\lib\\site-packages\\sklearn\\preprocessing\\_label.py:115: DataConversionWarning: A column-vector y was passed when a 1d array was expected. Please change the shape of y to (n_samples, ), for example using ravel().\n",
            "  y = column_or_1d(y, warn=True)\n"
          ]
        },
        {
          "data": {
            "text/plain": [
              "array([0, 0, 0, ..., 0, 0, 0], dtype=int64)"
            ]
          },
          "execution_count": 34,
          "metadata": {},
          "output_type": "execute_result"
        }
      ],
      "source": [
        "Y2_test = df_test[df_test.columns[40:]].values\n",
        "Y2_test\n",
        "labelencoder_Y = preprocessing.LabelEncoder()\n",
        "Y2_test = labelencoder_Y.fit_transform(Y2_test)\n",
        "Y2_test"
      ]
    },
    {
      "cell_type": "code",
      "execution_count": 35,
      "metadata": {
        "colab": {
          "base_uri": "https://localhost:8080/"
        },
        "id": "w2UILkljaDmx",
        "outputId": "c025eed5-79fa-410e-a981-2a89fc906243"
      },
      "outputs": [
        {
          "name": "stdout",
          "output_type": "stream",
          "text": [
            "sepsis dimensions without label : (25210, 40)\n"
          ]
        }
      ],
      "source": [
        "print(\"sepsis dimensions without label : {}\".format(X2_test.shape))"
      ]
    },
    {
      "cell_type": "code",
      "execution_count": 36,
      "metadata": {
        "colab": {
          "base_uri": "https://localhost:8080/"
        },
        "id": "Q5eLu1Z6aFJZ",
        "outputId": "5735865a-0202-43f9-f8b4-d5f53f5c01a3"
      },
      "outputs": [
        {
          "name": "stdout",
          "output_type": "stream",
          "text": [
            "sepsis dimensions without label : (25210,)\n"
          ]
        }
      ],
      "source": [
        "print(\"sepsis dimensions without label : {}\".format(Y2_test.shape))"
      ]
    },
    {
      "cell_type": "code",
      "execution_count": 37,
      "metadata": {
        "colab": {
          "base_uri": "https://localhost:8080/",
          "height": 269
        },
        "id": "RyuuPd03adcx",
        "outputId": "7d5040d7-1bf2-456f-ab35-e549858a0b7e"
      },
      "outputs": [
        {
          "name": "stdout",
          "output_type": "stream",
          "text": [
            "MLPClassifier(activation='tanh', hidden_layer_sizes=(40, 10, 10, 10, 10, 2),\n",
            "              learning_rate_init=1e-05, max_iter=100, random_state=1,\n",
            "              solver='lbfgs')\n"
          ]
        },
        {
          "data": {
            "image/png": "[encoded data removed]",
            "text/plain": [
              "<Figure size 432x288 with 2 Axes>"
            ]
          },
          "metadata": {
            "needs_background": "light"
          },
          "output_type": "display_data"
        }
      ],
      "source": [
        "loaded_model = pickle.load(open('F:/COLLEGE/6TH SEMESTER/Predictive Analysis/Projectfinalized_model2.sav', 'rb'))\n",
        "print(loaded_model)\n",
        "predicted = loaded_model.predict(X2_test)\n",
        "cm=confusion_matrix(Y2_test,predicted)\n",
        "disp=ConfusionMatrixDisplay(confusion_matrix=cm,display_labels=loaded_model.classes_)\n",
        "disp.plot()\n",
        "plt.show()"
      ]
    },
    {
      "cell_type": "code",
      "execution_count": 38,
      "metadata": {
        "colab": {
          "base_uri": "https://localhost:8080/"
        },
        "id": "BLu7usfSb2pP",
        "outputId": "0d863683-3abd-4182-f5a1-ff7377b0050d"
      },
      "outputs": [
        {
          "name": "stdout",
          "output_type": "stream",
          "text": [
            "0.8280047600158668\n"
          ]
        }
      ],
      "source": [
        "result = loaded_model.score(X2_test, Y2_test)\n",
        "print(result)"
      ]
    },
    {
      "cell_type": "code",
      "execution_count": 39,
      "metadata": {
        "id": "smg-c8_iJ8gY"
      },
      "outputs": [],
      "source": [
        "from sklearn.metrics import precision_score, classification_report,average_precision_score, accuracy_score, balanced_accuracy_score, precision_recall_curve, f1_score, auc, roc_curve"
      ]
    },
    {
      "cell_type": "code",
      "execution_count": 40,
      "metadata": {
        "id": "pju7S0hfL0dF"
      },
      "outputs": [],
      "source": [
        "import numpy as np\n",
        "def predictors_labels_allocator(df):\n",
        "    col_names = df.columns\n",
        "    X = np.array(df[col_names[:-1]].values)\n",
        "    y = df[col_names[-1]].values\n",
        "    \n",
        "    return X, y"
      ]
    },
    {
      "cell_type": "code",
      "execution_count": 41,
      "metadata": {
        "id": "Ub2P93cEJ8jw"
      },
      "outputs": [],
      "source": [
        "Xtr, ytr = predictors_labels_allocator(dataset)  \n"
      ]
    },
    {
      "cell_type": "code",
      "execution_count": 42,
      "metadata": {
        "id": "EF8XUt1yJ8oJ"
      },
      "outputs": [],
      "source": [
        "yhat_probas = loaded_model.predict_proba(X_test)\n"
      ]
    },
    {
      "cell_type": "code",
      "execution_count": 43,
      "metadata": {
        "colab": {
          "base_uri": "https://localhost:8080/"
        },
        "id": "bYTaFclqOFWq",
        "outputId": "d1d81da3-fe46-4df9-de2c-058e9445b1bc"
      },
      "outputs": [
        {
          "name": "stdout",
          "output_type": "stream",
          "text": [
            "Requirement already satisfied: plot-metric in c:\\users\\user\\appdata\\local\\programs\\python\\python310\\lib\\site-packages (0.0.6)\n",
            "Requirement already satisfied: scikit-learn>=0.21.2 in c:\\users\\user\\appdata\\local\\programs\\python\\python310\\lib\\site-packages (from plot-metric) (1.1.2)\n",
            "Requirement already satisfied: scipy>=1.1.0 in c:\\users\\user\\appdata\\local\\programs\\python\\python310\\lib\\site-packages (from plot-metric) (1.8.0)\n",
            "Requirement already satisfied: numpy>=1.15.4 in c:\\users\\user\\appdata\\local\\programs\\python\\python310\\lib\\site-packages (from plot-metric) (1.24.2)\n",
            "Requirement already satisfied: seaborn>=0.9.0 in c:\\users\\user\\appdata\\local\\programs\\python\\python310\\lib\\site-packages (from plot-metric) (0.11.2)\n",
            "Requirement already satisfied: pandas>=0.23.4 in c:\\users\\user\\appdata\\local\\programs\\python\\python310\\lib\\site-packages (from plot-metric) (1.4.1)\n",
            "Requirement already satisfied: matplotlib>=3.0.2 in c:\\users\\user\\appdata\\local\\programs\\python\\python310\\lib\\site-packages (from plot-metric) (3.5.1)\n",
            "Requirement already satisfied: colorlover>=0.3.0 in c:\\users\\user\\appdata\\local\\programs\\python\\python310\\lib\\site-packages (from plot-metric) (0.3.0)\n",
            "Requirement already satisfied: pyparsing>=2.2.1 in c:\\users\\user\\appdata\\local\\programs\\python\\python310\\lib\\site-packages (from matplotlib>=3.0.2->plot-metric) (3.0.7)\n",
            "Requirement already satisfied: pillow>=6.2.0 in c:\\users\\user\\appdata\\local\\programs\\python\\python310\\lib\\site-packages (from matplotlib>=3.0.2->plot-metric) (9.0.1)\n",
            "Requirement already satisfied: python-dateutil>=2.7 in c:\\users\\user\\appdata\\local\\programs\\python\\python310\\lib\\site-packages (from matplotlib>=3.0.2->plot-metric) (2.8.2)\n",
            "Requirement already satisfied: cycler>=0.10 in c:\\users\\user\\appdata\\local\\programs\\python\\python310\\lib\\site-packages (from matplotlib>=3.0.2->plot-metric) (0.11.0)\n",
            "Requirement already satisfied: packaging>=20.0 in c:\\users\\user\\appdata\\local\\programs\\python\\python310\\lib\\site-packages (from matplotlib>=3.0.2->plot-metric) (21.3)\n",
            "Requirement already satisfied: fonttools>=4.22.0 in c:\\users\\user\\appdata\\local\\programs\\python\\python310\\lib\\site-packages (from matplotlib>=3.0.2->plot-metric) (4.29.1)\n",
            "Requirement already satisfied: kiwisolver>=1.0.1 in c:\\users\\user\\appdata\\local\\programs\\python\\python310\\lib\\site-packages (from matplotlib>=3.0.2->plot-metric) (1.3.2)\n",
            "Requirement already satisfied: pytz>=2020.1 in c:\\users\\user\\appdata\\local\\programs\\python\\python310\\lib\\site-packages (from pandas>=0.23.4->plot-metric) (2021.3)\n",
            "Requirement already satisfied: threadpoolctl>=2.0.0 in c:\\users\\user\\appdata\\local\\programs\\python\\python310\\lib\\site-packages (from scikit-learn>=0.21.2->plot-metric) (3.1.0)\n",
            "Requirement already satisfied: joblib>=1.0.0 in c:\\users\\user\\appdata\\local\\programs\\python\\python310\\lib\\site-packages (from scikit-learn>=0.21.2->plot-metric) (1.1.0)\n",
            "Requirement already satisfied: six>=1.5 in c:\\users\\user\\appdata\\local\\programs\\python\\python310\\lib\\site-packages (from python-dateutil>=2.7->matplotlib>=3.0.2->plot-metric) (1.16.0)\n",
            "Note: you may need to restart the kernel to use updated packages.\n"
          ]
        }
      ],
      "source": [
        "pip install plot-metric"
      ]
    },
    {
      "cell_type": "code",
      "execution_count": 44,
      "metadata": {
        "id": "OSHE96vBNGoe"
      },
      "outputs": [],
      "source": [
        "%matplotlib inline\n",
        "%config InlineBackend.figure_format = 'retina'\n",
        "import os\n",
        "import random\n",
        "from plot_metric.functions import BinaryClassification"
      ]
    },
    {
      "cell_type": "code",
      "execution_count": 45,
      "metadata": {
        "id": "DLS7Y55GNtvp"
      },
      "outputs": [],
      "source": [
        "def plot_ROC(y_test, y_score, n_classes=2):\n",
        "    # Compute ROC curve and ROC area for each class\n",
        "    fpr = dict()\n",
        "    tpr = dict()\n",
        "    roc_auc = dict()\n",
        "    fpr['positive'], tpr['positive'], _ = roc_curve(y_test, y_score)\n",
        "    roc_auc['positive'] = auc(fpr['positive'], tpr['positive'])\n",
        "\n",
        "    # Compute micro-average ROC curve and ROC area\n",
        "    fpr[\"micro\"], tpr[\"micro\"], _ = roc_curve(y_test.ravel(), y_score.ravel())\n",
        "    roc_auc[\"micro\"] = auc(fpr[\"micro\"], tpr[\"micro\"])\n",
        "    \n",
        "    plt.figure()\n",
        "    lw = 2\n",
        "    plt.plot(fpr['positive'], tpr['positive'], color='darkorange',\n",
        "             lw=lw, label='ROC curve (area = %0.2f)' % roc_auc['positive'])\n",
        "    plt.plot([0, 1], [0, 1], color='navy', lw=lw, linestyle='--')\n",
        "    plt.xlim([0.0, 1.0])\n",
        "    plt.ylim([0.0, 1.05])\n",
        "    plt.xlabel('False Positive Rate')\n",
        "    plt.ylabel('True Positive Rate')\n",
        "    plt.title('Receiver operating characteristic curve')\n",
        "    plt.legend(loc=\"lower right\")\n",
        "    plt.show()"
      ]
    },
    {
      "cell_type": "code",
      "execution_count": 46,
      "metadata": {
        "colab": {
          "base_uri": "https://localhost:8080/"
        },
        "id": "ZlwNTDMbOPQX",
        "outputId": "e0f8d646-9a9a-4bdc-fce8-ecddc599e2bc"
      },
      "outputs": [
        {
          "data": {
            "text/plain": [
              "array([1, 0, 0, ..., 1, 1, 0], dtype=int64)"
            ]
          },
          "execution_count": 46,
          "metadata": {},
          "output_type": "execute_result"
        }
      ],
      "source": [
        "Y_test"
      ]
    },
    {
      "cell_type": "code",
      "execution_count": 47,
      "metadata": {
        "colab": {
          "base_uri": "https://localhost:8080/"
        },
        "id": "u4jepGk8OsAu",
        "outputId": "9b61e3e4-95f4-4c63-ec3f-646838332d2f"
      },
      "outputs": [
        {
          "data": {
            "text/plain": [
              "array([[ 9.9000e+01,  9.4000e+01,  3.7560e+01, ...,  0.0000e+00,\n",
              "        -2.0000e-02,  2.0000e+01],\n",
              "       [ 6.8000e+01,  1.0000e+02,  3.5940e+01, ...,  0.0000e+00,\n",
              "        -6.5700e+00,  1.4000e+01],\n",
              "       [ 6.2000e+01,  9.6000e+01,  3.5390e+01, ...,  0.0000e+00,\n",
              "        -2.6118e+02,  2.8000e+01],\n",
              "       ...,\n",
              "       [ 8.6000e+01,  9.7000e+01,  3.6890e+01, ...,  0.0000e+00,\n",
              "        -1.4006e+02,  3.0000e+00],\n",
              "       [ 9.6000e+01,  1.0000e+02,  3.6670e+01, ...,  0.0000e+00,\n",
              "        -3.0000e-02,  1.9200e+02],\n",
              "       [ 1.0700e+02,  9.6000e+01,  3.8110e+01, ...,  0.0000e+00,\n",
              "        -1.0000e-02,  5.5000e+01]])"
            ]
          },
          "execution_count": 47,
          "metadata": {},
          "output_type": "execute_result"
        }
      ],
      "source": [
        "X_test"
      ]
    },
    {
      "cell_type": "code",
      "execution_count": 48,
      "metadata": {
        "colab": {
          "base_uri": "https://localhost:8080/",
          "height": 471
        },
        "id": "M-FR_A86OuDm",
        "outputId": "251dcc8e-2971-4567-d6b1-64d86f5cc960"
      },
      "outputs": [
        {
          "data": {
            "image/png": "[encoded data removed]",
            "text/plain": [
              "<Figure size 432x288 with 1 Axes>"
            ]
          },
          "metadata": {
            "image/png": {
              "height": 277,
              "width": 393
            },
            "needs_background": "light"
          },
          "output_type": "display_data"
        }
      ],
      "source": [
        "plot_ROC(Y_test,yhat_probas[:,1])"
      ]
    }
  ],
  "metadata": {
    "accelerator": "TPU",
    "colab": {
      "provenance": []
    },
    "kernelspec": {
      "display_name": "Python 3",
      "language": "python",
      "name": "python3"
    },
    "language_info": {
      "codemirror_mode": {
        "name": "ipython",
        "version": 3
      },
      "file_extension": ".py",
      "mimetype": "text/x-python",
      "name": "python",
      "nbconvert_exporter": "python",
      "pygments_lexer": "ipython3",
      "version": "3.10.2"
    },
    "vscode": {
      "interpreter": {
        "hash": "fb4569285eef3a3450cb62085a5b1e0da4bce0af555edc33dcf29baf3acc1368"
      }
    }
  },
  "nbformat": 4,
  "nbformat_minor": 0
}
